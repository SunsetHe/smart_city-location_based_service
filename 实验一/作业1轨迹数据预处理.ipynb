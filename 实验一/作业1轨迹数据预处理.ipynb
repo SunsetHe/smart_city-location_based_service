{
 "cells": [
  {
   "cell_type": "code",
   "execution_count": 1,
   "metadata": {
    "tags": [],
    "ExecuteTime": {
     "end_time": "2024-11-21T02:55:00.704351500Z",
     "start_time": "2024-11-21T02:54:57.122756600Z"
    }
   },
   "outputs": [],
   "source": [
    "#导包：公共数据包\n",
    "import csv\n",
    "import pandas as pd\n",
    "import time\n",
    "import json\n",
    "import numpy as np\n",
    "from shapely.geometry import LineString\n",
    "import os\n",
    "import datetime\n",
    "\n",
    "#导包：自有包\n",
    "import utils.util as util\n",
    "from utils.douglas_peucker import DouglasPeuker\n",
    "import utils.visualization as visual\n",
    "from collections import deque"
   ]
  },
  {
   "cell_type": "code",
   "execution_count": 2,
   "metadata": {
    "tags": [],
    "ExecuteTime": {
     "end_time": "2024-11-21T02:55:00.707519200Z",
     "start_time": "2024-11-21T02:55:00.706373600Z"
    }
   },
   "outputs": [],
   "source": [
    "# 需要调整的阈值\n",
    "LIMIT_LENGTH = 65  # 轨迹长度小于该值的将被过滤掉\n",
    "LIMIT_POINT = 5  # 轨迹点数小于该值的将被过滤掉\n",
    "\n",
    "LIMIT_DT = 30  # 时间戳间隔大于该值的将被分段 3 * 平均采样间隔（10s）\n",
    "LIMIT_DISTANCE = 400  # 距离大于该值的将被分段 2 * 平均采样间隔（10s）* 城市限速（20m/s）\n",
    "LIMIT_DIRECTION = 35  # 方向变换大于该值的将去噪\n",
    "DP_THRESHOLD = 5  # 道格拉斯-普克 阈值"
   ]
  },
  {
   "cell_type": "code",
   "execution_count": 3,
   "metadata": {
    "tags": [],
    "ExecuteTime": {
     "end_time": "2024-11-21T02:55:00.717810100Z",
     "start_time": "2024-11-21T02:55:00.707519200Z"
    }
   },
   "outputs": [],
   "source": [
    "# 调用道格拉斯-普克算法，减少轨迹点索引，轨迹抽稀\n",
    "def get_reduction_traj_index(coordinates):\n",
    "    traj_mercator = util.transform_points_wgs84_to_mercator(coordinates)\n",
    "    result_index = []\n",
    "    d = DouglasPeuker(DP_THRESHOLD)\n",
    "    d.reduction(traj_mercator)\n",
    "    temp_list = d.qualify_list\n",
    "    for i, item in enumerate(traj_mercator):\n",
    "        if item in temp_list:\n",
    "            result_index.append(i)\n",
    "    return result_index  # 抽稀后的坐标点索引\n",
    "\n",
    "# 计算速度和方向\n",
    "def calculate_speed_and_dir(traj):\n",
    "    result = dict()\n",
    "    for key, value in traj.items():\n",
    "        directions = util.get_direction(value[1])\n",
    "        velocities = util.get_velocity(value[1], value[0])\n",
    "        result[key] = [value[0], value[1], velocities, directions]\n",
    "    return result"
   ]
  },
  {
   "cell_type": "markdown",
   "metadata": {},
   "source": [
    "## 1.完成轨迹分段代码实现"
   ]
  },
  {
   "cell_type": "code",
   "execution_count": 3,
   "metadata": {
    "ExecuteTime": {
     "end_time": "2024-11-21T02:55:00.723567100Z",
     "start_time": "2024-11-21T02:55:00.719040600Z"
    }
   },
   "outputs": [],
   "source": []
  },
  {
   "cell_type": "code",
   "execution_count": 4,
   "metadata": {
    "tags": [],
    "ExecuteTime": {
     "end_time": "2024-11-21T02:55:00.741582400Z",
     "start_time": "2024-11-21T02:55:00.729603300Z"
    }
   },
   "outputs": [],
   "source": [
    "def split_traj(traj):  # traj {'id':[[时间戳],[坐标点]]}\n",
    "    res = {}\n",
    "    traj_id = 0# 设定一个新的key，用于解决原先的一段轨迹可能被分为多段轨迹的问题\n",
    "    for key,value in traj.items():\n",
    "        timestamp = value[0]# 时间戳\n",
    "        traj_raw = value[1]# 原始坐标点值\n",
    "        traj_mercator = util.transform_points_wgs84_to_mercator(value[1])# 坐标点转为墨卡托坐标系 list\n",
    "\n",
    "        if not traj_mercator or not timestamp:\n",
    "            continue\n",
    "        time_diff = util.get_time_diff(timestamp)# 时间戳的间隔 list\n",
    "        distance_diff = util.get_distance_diff(traj_mercator)# 计算相邻坐标点的欧式距离 list\n",
    "        diff_time_np = np.array(time_diff)\n",
    "        diff_distance_np = np.array(distance_diff)\n",
    "        limit_dt_index = np.where(diff_distance_np > LIMIT_DT)\n",
    "        limit_distance_index = np.where(diff_distance_np > LIMIT_DISTANCE)\n",
    "        segment_loc_tmp = list(set(limit_dt_index[0]).union(set(limit_distance_index[0])))\n",
    "\n",
    "\n",
    "        if not segment_loc_tmp and len(traj_mercator) >= LIMIT_POINT:\n",
    "            # filter 过滤邻近冗余坐标值 返回索引 根据tmp_traj_mercator计算每两个点之间的距离，若其之间的距离小于LIMIT_LENGTH = 65\n",
    "            # 轨迹长度小于该值的将被过滤掉\n",
    "            # 过滤方法1\n",
    "            # filter_distance_index = np.where(diff_distance_np > LIMIT_LENGTH)[0]\n",
    "            # filter_timestamp = [timestamp[i] for i in filter_distance_index]\n",
    "            # filter_traj = [traj_raw[i] for i in filter_distance_index]\n",
    "            # res[str(traj_id)] = [filter_timestamp,filter_traj]\n",
    "            # traj_id += 1\n",
    "\n",
    "\n",
    "\n",
    "            # 过滤方法2 从第一个点开始，向后查找点，计算距离，直至点之间的距离大于limit，添加点，循环\n",
    "            # n = len(traj_mercator)\n",
    "            # filter_index = []\n",
    "            # queue = deque(range(1,n))\n",
    "            #\n",
    "            # filter_index.append(0)\n",
    "            #\n",
    "            # while queue:\n",
    "            #     a_index = filter_index[-1]\n",
    "            #     b_index = queue[0]\n",
    "            #     traj_need_calcul = [traj_mercator[a_index],traj_mercator[b_index]]\n",
    "            #     distance = util.get_distance_diff(traj_need_calcul)[1]\n",
    "            #     if distance > LIMIT_LENGTH:\n",
    "            #         filter_index.append(queue.popleft())\n",
    "            #     else:\n",
    "            #         queue.popleft()\n",
    "            # if len(filter_index) == 1:\n",
    "            #     filter_index.append(n-1)\n",
    "            #\n",
    "            # filtered_timestamp = [timestamp[index] for index in filter_index]\n",
    "            # filtered_traj = [traj_raw[index] for index in filter_index]\n",
    "            # res[str(traj_id)] = [filtered_timestamp,filtered_traj]\n",
    "            # traj_id += 1\n",
    "\n",
    "            res[str(traj_id)] = [timestamp,traj_raw]# res保存不需要切割的轨迹点\n",
    "            traj_id += 1\n",
    "        else:# 如果需要切割\n",
    "            segment_loc_tmp.sort()\n",
    "            segment_loc = [0] + segment_loc_tmp + [len(diff_time_np)]\n",
    "            for index in range(len(segment_loc) - 1):\n",
    "                if (segment_loc[index + 1]) - segment_loc[index] < LIMIT_POINT:# 过滤短轨迹段，轨迹点数小于5\n",
    "                    continue\n",
    "                tmp_traj_mercator = traj_mercator[segment_loc[index]:(segment_loc[index + 1])]# 获取对应轨迹段\n",
    "                tmp_timestamp = timestamp[segment_loc[index]:(segment_loc[index + 1])]\n",
    "                tmp_traj_raw = traj_raw[segment_loc[index]:(segment_loc[index + 1])]\n",
    "\n",
    "                res[str(traj_id)] = [tmp_timestamp,tmp_traj_raw]\n",
    "                traj_id += 1\n",
    "\n",
    "                # filter 过滤邻近冗余坐标值 返回索引 根据tmp_traj_mercator计算每两个点之间的距离，若其之间的距离小于LIMIT_LENGTH = 65\n",
    "                # 轨迹长度小于该值的将被过滤掉\n",
    "\n",
    "                # tmp_distance_diff = util.get_distance_diff(tmp_traj_mercator)\n",
    "                # tmp_distance_diff_np = np.array(tmp_distance_diff)\n",
    "                # limit_tmp_distance_diff = np.where(tmp_distance_diff_np > LIMIT_LENGTH)\n",
    "                # filtered_timestamp = [tmp_timestamp[i] for i in limit_tmp_distance_diff]\n",
    "                # filtered_traj_raw = [tmp_traj_raw[i] for i in limit_tmp_distance_diff]\n",
    "                #\n",
    "                # res[str(traj_id)] = [filtered_timestamp,filtered_traj_raw]\n",
    "                # traj_id += 1\n",
    "\n",
    "    # 待填充\n",
    "    return res"
   ]
  },
  {
   "cell_type": "markdown",
   "metadata": {},
   "source": [
    "## 2.完成轨迹去噪代码实现"
   ]
  },
  {
   "cell_type": "code",
   "execution_count": 5,
   "metadata": {
    "tags": [],
    "ExecuteTime": {
     "end_time": "2024-11-21T02:55:00.741582400Z",
     "start_time": "2024-11-21T02:55:00.735712Z"
    }
   },
   "outputs": [],
   "source": [
    "# 轨迹去噪\n",
    "def denoise_traj(traj):  # traj {'id':[[时间戳],[坐标点],[方向],[速度]]}\n",
    "    res = {}\n",
    "    traj_with_dir_speed = calculate_speed_and_dir(traj)\n",
    "    for key,value in traj_with_dir_speed.items():\n",
    "        index = [0]\n",
    "        direction = value[3]\n",
    "        for i in range(1,len(value[3]) - 1):\n",
    "            dir_changed1 = direction[i] - direction[i - 1]\n",
    "            dir_changed2 = direction[i + 1] + 360.0 - direction[i]\n",
    "            dir_changed = min(dir_changed1,dir_changed2)\n",
    "            if dir_changed < LIMIT_DIRECTION:\n",
    "                index.append(i)\n",
    "        if len(index) <= 1:\n",
    "            index.append(len(direction) - 1)\n",
    "\n",
    "        filter_timestamp = [value[0][i] for i in index]\n",
    "        filter_traj = [value[1][i] for i in index]\n",
    "        res[key] = [filter_timestamp,filter_traj]\n",
    "    # 待填充\n",
    "    return res"
   ]
  },
  {
   "cell_type": "markdown",
   "metadata": {},
   "source": [
    "## 3.完成轨迹简化代码实现"
   ]
  },
  {
   "cell_type": "code",
   "execution_count": 6,
   "metadata": {
    "tags": [],
    "ExecuteTime": {
     "end_time": "2024-11-21T02:55:00.798878400Z",
     "start_time": "2024-11-21T02:55:00.745591400Z"
    }
   },
   "outputs": [],
   "source": [
    "## 3.完成轨迹简化代码实现# 轨迹去噪\n",
    "def simplify_traj(traj):  # traj {'id':[[时间戳],[坐标点],[方向],[速度]]}\n",
    "    res = {}\n",
    "    for key,value in traj.items():\n",
    "        index = get_reduction_traj_index(value[1])\n",
    "        timestamp = [value[0][i] for i in index]\n",
    "        traj = [value[1][i] for i in index]\n",
    "        res[key] = [timestamp,traj]\n",
    "\n",
    "    # 待填充\n",
    "    return res"
   ]
  },
  {
   "cell_type": "markdown",
   "metadata": {},
   "source": [
    "## 4.主函数"
   ]
  },
  {
   "cell_type": "code",
   "execution_count": 7,
   "metadata": {
    "ExecuteTime": {
     "end_time": "2024-11-21T02:55:12.560075900Z",
     "start_time": "2024-11-21T02:55:00.749709500Z"
    }
   },
   "outputs": [],
   "source": [
    "traj_dict = json.load(open('traj_dict.json'))\n",
    "traj_split = split_traj(traj_dict)\n",
    "traj_denoise = denoise_traj(traj_split)\n",
    "traj_simplify = simplify_traj(traj_denoise)"
   ]
  },
  {
   "cell_type": "code",
   "execution_count": 8,
   "metadata": {
    "scrolled": false,
    "ExecuteTime": {
     "end_time": "2024-11-21T02:55:12.574638400Z",
     "start_time": "2024-11-21T02:55:12.560075900Z"
    }
   },
   "outputs": [
    {
     "name": "stdout",
     "output_type": "stream",
     "text": [
      "1173410\n"
     ]
    }
   ],
   "source": [
    "count_of_before_spilt = 0\n",
    "for key,value in traj_dict.items():\n",
    "    count_of_before_spilt += len(value[1])\n",
    "print(count_of_before_spilt)"
   ]
  },
  {
   "cell_type": "code",
   "execution_count": 9,
   "outputs": [
    {
     "name": "stdout",
     "output_type": "stream",
     "text": [
      "813111\n",
      "0.692947051755141\n"
     ]
    }
   ],
   "source": [
    "count_of_after_split = 0\n",
    "for key,value in traj_split.items():\n",
    "    count_of_after_split += len(value[1])\n",
    "print(count_of_after_split)\n",
    "print(count_of_after_split/count_of_before_spilt)"
   ],
   "metadata": {
    "collapsed": false,
    "ExecuteTime": {
     "end_time": "2024-11-21T02:55:12.591572300Z",
     "start_time": "2024-11-21T02:55:12.574638400Z"
    }
   }
  },
  {
   "cell_type": "code",
   "execution_count": 10,
   "outputs": [
    {
     "name": "stdout",
     "output_type": "stream",
     "text": [
      "688616\n",
      "0.58685029103212\n"
     ]
    }
   ],
   "source": [
    "count_of_after_denoise = 0\n",
    "for key,value in traj_denoise.items():\n",
    "    count_of_after_denoise += len(value[1])\n",
    "print(count_of_after_denoise)\n",
    "print(count_of_after_denoise/count_of_before_spilt)"
   ],
   "metadata": {
    "collapsed": false,
    "ExecuteTime": {
     "end_time": "2024-11-21T02:55:12.624786800Z",
     "start_time": "2024-11-21T02:55:12.589545300Z"
    }
   }
  },
  {
   "cell_type": "code",
   "execution_count": 11,
   "outputs": [
    {
     "name": "stdout",
     "output_type": "stream",
     "text": [
      "216613\n",
      "0.18460129025660255\n"
     ]
    }
   ],
   "source": [
    "count_of_after_simplify = 0\n",
    "for key,value in traj_simplify.items():\n",
    "    count_of_after_simplify += len(value[1])\n",
    "print(count_of_after_simplify)\n",
    "print(count_of_after_simplify/count_of_before_spilt)"
   ],
   "metadata": {
    "collapsed": false,
    "ExecuteTime": {
     "end_time": "2024-11-21T02:55:12.624786800Z",
     "start_time": "2024-11-21T02:55:12.604657600Z"
    }
   }
  },
  {
   "cell_type": "code",
   "execution_count": 12,
   "outputs": [
    {
     "ename": "TypeError",
     "evalue": "'>' not supported between instances of 'str' and 'int'",
     "output_type": "error",
     "traceback": [
      "\u001B[1;31m---------------------------------------------------------------------------\u001B[0m",
      "\u001B[1;31mTypeError\u001B[0m                                 Traceback (most recent call last)",
      "Cell \u001B[1;32mIn[12], line 1\u001B[0m\n\u001B[1;32m----> 1\u001B[0m \u001B[43mvisual\u001B[49m\u001B[38;5;241;43m.\u001B[39;49m\u001B[43mvisual_raw_traj\u001B[49m\u001B[43m(\u001B[49m\u001B[43mvisual\u001B[49m\u001B[38;5;241;43m.\u001B[39;49m\u001B[43mgeo_json_generate_traj_from_dict\u001B[49m\u001B[43m(\u001B[49m\u001B[43mtraj_dict\u001B[49m\u001B[43m)\u001B[49m\u001B[43m,\u001B[49m\u001B[38;5;124;43m\"\u001B[39;49m\u001B[38;5;124;43mbefore.json\u001B[39;49m\u001B[38;5;124;43m\"\u001B[39;49m\u001B[43m)\u001B[49m\n\u001B[0;32m      2\u001B[0m visual\u001B[38;5;241m.\u001B[39mvisual_raw_traj(visual\u001B[38;5;241m.\u001B[39mgeo_json_generate_traj_from_dict(traj_simplify),\u001B[38;5;124m\"\u001B[39m\u001B[38;5;124mafter.json\u001B[39m\u001B[38;5;124m\"\u001B[39m)\n",
      "File \u001B[1;32mD:\\desktop\\lesson\\smart_city-location_based_service\\实验一\\utils\\visualization.py:44\u001B[0m, in \u001B[0;36mvisual_raw_traj\u001B[1;34m(traj, path, type_style)\u001B[0m\n\u001B[0;32m     42\u001B[0m     os\u001B[38;5;241m.\u001B[39mremove(path)\n\u001B[0;32m     43\u001B[0m \u001B[38;5;28;01mwith\u001B[39;00m \u001B[38;5;28mopen\u001B[39m(path, \u001B[38;5;124m\"\u001B[39m\u001B[38;5;124mw\u001B[39m\u001B[38;5;124m\"\u001B[39m) \u001B[38;5;28;01mas\u001B[39;00m f:\n\u001B[1;32m---> 44\u001B[0m     json\u001B[38;5;241m.\u001B[39mdump(\u001B[43mgeo_json_generate_traj_from_dict\u001B[49m\u001B[43m(\u001B[49m\u001B[43mtraj\u001B[49m\u001B[43m,\u001B[49m\u001B[43m \u001B[49m\u001B[43mtype_style\u001B[49m\u001B[43m)\u001B[49m, f)\n",
      "File \u001B[1;32mD:\\desktop\\lesson\\smart_city-location_based_service\\实验一\\utils\\visualization.py:16\u001B[0m, in \u001B[0;36mgeo_json_generate_traj_from_dict\u001B[1;34m(link_wkts, type_style)\u001B[0m\n\u001B[0;32m      7\u001B[0m res \u001B[38;5;241m=\u001B[39m {\n\u001B[0;32m      8\u001B[0m     \u001B[38;5;124m\"\u001B[39m\u001B[38;5;124mtype\u001B[39m\u001B[38;5;124m\"\u001B[39m: \u001B[38;5;124m\"\u001B[39m\u001B[38;5;124mFeatureCollection\u001B[39m\u001B[38;5;124m\"\u001B[39m,\n\u001B[0;32m      9\u001B[0m     \u001B[38;5;124m\"\u001B[39m\u001B[38;5;124mfeatures\u001B[39m\u001B[38;5;124m\"\u001B[39m: []\n\u001B[0;32m     10\u001B[0m }\n\u001B[0;32m     11\u001B[0m \u001B[38;5;28;01mfor\u001B[39;00m k, v \u001B[38;5;129;01min\u001B[39;00m link_wkts\u001B[38;5;241m.\u001B[39mitems():\n\u001B[0;32m     12\u001B[0m     t \u001B[38;5;241m=\u001B[39m {\n\u001B[0;32m     13\u001B[0m         \u001B[38;5;124m\"\u001B[39m\u001B[38;5;124mtype\u001B[39m\u001B[38;5;124m\"\u001B[39m: \u001B[38;5;124m\"\u001B[39m\u001B[38;5;124mFeature\u001B[39m\u001B[38;5;124m\"\u001B[39m,\n\u001B[0;32m     14\u001B[0m         \u001B[38;5;124m\"\u001B[39m\u001B[38;5;124mgeometry\u001B[39m\u001B[38;5;124m\"\u001B[39m: {\n\u001B[0;32m     15\u001B[0m             \u001B[38;5;124m\"\u001B[39m\u001B[38;5;124mtype\u001B[39m\u001B[38;5;124m\"\u001B[39m: type_style,\n\u001B[1;32m---> 16\u001B[0m             \u001B[38;5;124m\"\u001B[39m\u001B[38;5;124mcoordinates\u001B[39m\u001B[38;5;124m\"\u001B[39m: util\u001B[38;5;241m.\u001B[39mtransform_points_mercator_to_wgs84(v[\u001B[38;5;241m1\u001B[39m]) \u001B[38;5;28;01mif\u001B[39;00m \u001B[43mv\u001B[49m\u001B[43m[\u001B[49m\u001B[38;5;241;43m1\u001B[39;49m\u001B[43m]\u001B[49m\u001B[43m[\u001B[49m\u001B[38;5;241;43m0\u001B[39;49m\u001B[43m]\u001B[49m\u001B[43m[\u001B[49m\u001B[38;5;241;43m0\u001B[39;49m\u001B[43m]\u001B[49m\u001B[43m \u001B[49m\u001B[38;5;241;43m>\u001B[39;49m\u001B[43m \u001B[49m\u001B[38;5;241;43m1000\u001B[39;49m \u001B[38;5;28;01melse\u001B[39;00m v[\u001B[38;5;241m1\u001B[39m]\n\u001B[0;32m     17\u001B[0m         },\n\u001B[0;32m     18\u001B[0m         \u001B[38;5;124m\"\u001B[39m\u001B[38;5;124mproperties\u001B[39m\u001B[38;5;124m\"\u001B[39m: {\n\u001B[0;32m     19\u001B[0m             \u001B[38;5;124m\"\u001B[39m\u001B[38;5;124morder_id\u001B[39m\u001B[38;5;124m\"\u001B[39m: k,\n\u001B[0;32m     20\u001B[0m             \u001B[38;5;66;03m# /\u001B[39;00m\n\u001B[0;32m     21\u001B[0m         }\n\u001B[0;32m     22\u001B[0m \n\u001B[0;32m     23\u001B[0m     }\n\u001B[0;32m     25\u001B[0m     res[\u001B[38;5;124m\"\u001B[39m\u001B[38;5;124mfeatures\u001B[39m\u001B[38;5;124m\"\u001B[39m]\u001B[38;5;241m.\u001B[39mappend(t)\n\u001B[0;32m     27\u001B[0m \u001B[38;5;28;01mreturn\u001B[39;00m res\n",
      "\u001B[1;31mTypeError\u001B[0m: '>' not supported between instances of 'str' and 'int'"
     ]
    }
   ],
   "source": [
    "visual.visual_raw_traj(visual.geo_json_generate_traj_from_dict(traj_dict),\"before.json\")\n",
    "visual.visual_raw_traj(visual.geo_json_generate_traj_from_dict(traj_simplify),\"after.json\")"
   ],
   "metadata": {
    "collapsed": false,
    "ExecuteTime": {
     "end_time": "2024-11-21T02:55:13.466779400Z",
     "start_time": "2024-11-21T02:55:12.620782700Z"
    }
   }
  },
  {
   "cell_type": "code",
   "execution_count": null,
   "outputs": [],
   "source": [
    "import folium\n",
    "from folium import PolyLine, Marker\n",
    "\n",
    "# 取第一个轨迹的第一个点作为初始地图中心\n",
    "first_traj = next(iter(traj_simplify.values()))\n",
    "initial_point = first_traj[1][0]  # 第一个坐标点\n",
    "m = folium.Map(location=initial_point, zoom_start=13)\n",
    "\n",
    "for traj_id, traj_data in traj_simplify.items():\n",
    "    coordinates = traj_data[1]  # 获取轨迹坐标\n",
    "    # 绘制轨迹线条\n",
    "    PolyLine(\n",
    "        locations=coordinates,  # 坐标点列表\n",
    "        color=\"blue\",          # 轨迹颜色\n",
    "        weight=2,              # 线条宽度\n",
    "        opacity=0.8            # 透明度\n",
    "    ).add_to(m)\n",
    "    # 在轨迹起点添加标记\n",
    "    Marker(location=coordinates[0], popup=f\"Start of {traj_id}\", icon=folium.Icon(color='green')).add_to(m)\n",
    "    # 在轨迹终点添加标记\n",
    "    Marker(location=coordinates[-1], popup=f\"End of {traj_id}\", icon=folium.Icon(color='red')).add_to(m)\n",
    "\n",
    "m.save(\"traj_map.html\")"
   ],
   "metadata": {
    "collapsed": false,
    "ExecuteTime": {
     "start_time": "2024-11-21T02:55:13.462780100Z"
    }
   }
  },
  {
   "cell_type": "code",
   "execution_count": null,
   "outputs": [],
   "source": [
    "# 取第一个轨迹的第一个点作为初始地图中心\n",
    "first_traj = next(iter(traj_dict.values()))\n",
    "initial_point = first_traj[1][0]  # 第一个坐标点\n",
    "m = folium.Map(location=initial_point, zoom_start=13)\n",
    "\n",
    "for traj_id, traj_data in traj_dict.items():\n",
    "    coordinates = traj_data[1]  # 获取轨迹坐标\n",
    "    # 绘制轨迹线条\n",
    "    PolyLine(\n",
    "        locations=coordinates,  # 坐标点列表\n",
    "        color=\"blue\",          # 轨迹颜色\n",
    "        weight=2,              # 线条宽度\n",
    "        opacity=0.8            # 透明度\n",
    "    ).add_to(m)\n",
    "    # 在轨迹起点添加标记\n",
    "    Marker(location=coordinates[0], popup=f\"Start of {traj_id}\", icon=folium.Icon(color='green')).add_to(m)\n",
    "    # 在轨迹终点添加标记\n",
    "    Marker(location=coordinates[-1], popup=f\"End of {traj_id}\", icon=folium.Icon(color='red')).add_to(m)\n",
    "\n",
    "m.save(\"traj_map_before.html\")"
   ],
   "metadata": {
    "collapsed": false
   }
  },
  {
   "cell_type": "markdown",
   "metadata": {},
   "source": [
    "##### 5.轨迹分段超参数实验（提示：距离、时间阈值对分段后剩余轨迹点数量的影响）选做"
   ]
  },
  {
   "cell_type": "code",
   "execution_count": null,
   "metadata": {},
   "outputs": [],
   "source": []
  },
  {
   "cell_type": "markdown",
   "metadata": {},
   "source": [
    "##### 6.轨迹去噪超参数实验 选做"
   ]
  },
  {
   "cell_type": "code",
   "execution_count": null,
   "metadata": {},
   "outputs": [],
   "source": []
  },
  {
   "cell_type": "markdown",
   "metadata": {},
   "source": [
    "##### 7.轨迹简化超参数实验 选做"
   ]
  },
  {
   "cell_type": "code",
   "execution_count": null,
   "metadata": {},
   "outputs": [],
   "source": []
  }
 ],
 "metadata": {
  "kernelspec": {
   "display_name": "Python 3 (ipykernel)",
   "language": "python",
   "name": "python3"
  },
  "language_info": {
   "codemirror_mode": {
    "name": "ipython",
    "version": 3
   },
   "file_extension": ".py",
   "mimetype": "text/x-python",
   "name": "python",
   "nbconvert_exporter": "python",
   "pygments_lexer": "ipython3",
   "version": "3.9.12"
  }
 },
 "nbformat": 4,
 "nbformat_minor": 4
}
