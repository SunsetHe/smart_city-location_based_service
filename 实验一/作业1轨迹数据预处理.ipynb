{
 "cells": [
  {
   "cell_type": "code",
   "execution_count": 1,
   "metadata": {
    "tags": []
   },
   "outputs": [],
   "source": [
    "#导包：公共数据包\n",
    "import csv\n",
    "import pandas as pd\n",
    "import time\n",
    "import json\n",
    "import numpy as np\n",
    "from shapely.geometry import LineString\n",
    "import os\n",
    "import datetime\n",
    "#导包：自有包\n",
    "import utils.util as util\n",
    "from utils.douglas_peucker import DouglasPeuker\n",
    "import utils.visualization as visual"
   ]
  },
  {
   "cell_type": "code",
   "execution_count": 2,
   "metadata": {
    "tags": []
   },
   "outputs": [],
   "source": [
    "# 需要调整的阈值\n",
    "LIMIT_LENGTH = 65  # 轨迹长度小于该值的将被过滤掉\n",
    "LIMIT_POINT = 5  # 轨迹点数小于该值的将被过滤掉\n",
    "\n",
    "LIMIT_DT = 30  # 时间戳间隔大于该值的将被分段 3 * 平均采样间隔（10s）\n",
    "LIMIT_DISTANCE = 400  # 距离大于该值的将被分段 2 * 平均采样间隔（10s）* 城市限速（20m/s）\n",
    "LIMIT_DIRECTION = 35  # 方向变换大于该值的将去噪\n",
    "DP_THRESHOLD = 5  # 道格拉斯-普克 阈值"
   ]
  },
  {
   "cell_type": "code",
   "execution_count": 3,
   "metadata": {
    "tags": []
   },
   "outputs": [],
   "source": [
    "# 调用道格拉斯-普克算法，减少轨迹点索引，轨迹抽稀\n",
    "def get_reduction_traj_index(coordinates):\n",
    "    traj_mercator = util.transform_points_wgs84_to_mercator(coordinates)\n",
    "    result_index = []\n",
    "    d = DouglasPeuker(DP_THRESHOLD)\n",
    "    d.reduction(traj_mercator)\n",
    "    temp_list = d.qualify_list\n",
    "    for i, item in enumerate(traj_mercator):\n",
    "        if item in temp_list:\n",
    "            result_index.append(i)\n",
    "    return result_index  # 抽稀后的坐标点索引\n",
    "\n",
    "# 计算速度和方向\n",
    "def calculate_speed_and_dir(traj):\n",
    "    result = dict()\n",
    "    for key, value in traj.items():\n",
    "        directions = util.get_direction(value[1])\n",
    "        velocities = util.get_velocity(value[1], value[0])\n",
    "        result[key] = [value[0], value[1], velocities, directions]\n",
    "    return result"
   ]
  },
  {
   "cell_type": "markdown",
   "metadata": {},
   "source": [
    "## 1.完成轨迹分段代码实现"
   ]
  },
  {
   "cell_type": "code",
   "execution_count": null,
   "metadata": {},
   "outputs": [],
   "source": []
  },
  {
   "cell_type": "code",
   "execution_count": null,
   "metadata": {
    "tags": [],
    "is_executing": true
   },
   "outputs": [],
   "source": [
    "# 轨迹分段 \n",
    "def split_traj(traj):  # traj {'id':[[时间戳],[坐标点]]}\n",
    "    res = {}\n",
    "    for key,value in traj.items():\n",
    "        timestamp = value[0]# 时间戳\n",
    "        traj_raw = value[1]# 原始坐标点值\n",
    "        traj_mercator = util.transform_points_wgs84_to_mercator(value[1])# 坐标点转为墨卡托坐标系 list\n",
    "\n",
    "        if not traj_mercator or not timestamp:\n",
    "            continue\n",
    "        time_diff = util.get_time_diff(timestamp)# 时间戳的间隔 list\n",
    "        distance_diff = util.get_distance_diff(traj_mercator)# 计算相邻坐标点的欧式距离 list\n",
    "        diff_time_np = np.array(time_diff)\n",
    "        diff_distance_np = np.array(distance_diff)\n",
    "        limit_dt_index = np.where(diff_distance_np > LIMIT_DT)\n",
    "        limit_distance_index = np.where(diff_distance_np > LIMIT_DISTANCE)\n",
    "        segment_loc_tmp = list(set(limit_dt_index[0]).union(set(limit_distance_index[0])))\n",
    "\n",
    "        if not segment_loc_tmp and len(traj_mercator) >= LIMIT_POINT:\n",
    "            res[key] = [timestamp, traj_raw]#res保存不需要切割的轨迹点\n",
    "        else:# 如果需要切割\n",
    "            segment_loc_tmp.sort()\n",
    "            segment_loc = [0] + segment_loc_tmp + [len(diff_time_np)]\n",
    "            for index in range(len(segment_loc) - 1):\n",
    "                if (segment_loc[index + 1]) - segment_loc[index] < LIMIT_POINT:# 过滤短轨迹段，轨迹点数小于6\n",
    "                    continue\n",
    "                tmp_traj_mercator = traj_mercator[segment_loc[index]:(segment_loc[index + 1])]# 获取对应轨迹段\n",
    "                tmp_timestamp = timestamp[segment_loc[index]:(segment_loc[index + 1])]\n",
    "                tmp_traj_raw = traj_raw[segment_loc[index]:(segment_loc[index + 1])]\n",
    "                # filter 过滤邻近冗余坐标值 返回索引\n",
    "\n",
    "    # 待填充\n",
    "    return res"
   ]
  },
  {
   "cell_type": "markdown",
   "metadata": {},
   "source": [
    "## 2.完成轨迹去噪代码实现"
   ]
  },
  {
   "cell_type": "code",
   "execution_count": 5,
   "metadata": {
    "tags": []
   },
   "outputs": [],
   "source": [
    "# 轨迹去噪\n",
    "def denoise_traj(traj):  # traj {'id':[[时间戳],[坐标点],[方向],[速度]]}\n",
    "    res = {}\n",
    "    tra_remove = dict()\n",
    "    for traj_id,value in\n",
    "    # 待填充\n",
    "    return res"
   ]
  },
  {
   "cell_type": "markdown",
   "metadata": {},
   "source": [
    "## 3.完成轨迹简化代码实现"
   ]
  },
  {
   "cell_type": "code",
   "execution_count": 6,
   "metadata": {
    "tags": []
   },
   "outputs": [],
   "source": [
    "## 3.完成轨迹简化代码实现# 轨迹去噪\n",
    "def simplify_traj(traj):  # traj {'id':[[时间戳],[坐标点],[方向],[速度]]}\n",
    "    res = {}\n",
    "    # 待填充\n",
    "    return res"
   ]
  },
  {
   "cell_type": "markdown",
   "metadata": {},
   "source": [
    "## 4.主函数"
   ]
  },
  {
   "cell_type": "code",
   "execution_count": 7,
   "metadata": {},
   "outputs": [],
   "source": [
    "traj_dict = json.load(open('traj_dict.json'))\n",
    "tra_split = split_traj(traj_dict)\n",
    "tra_denoise = denoise_traj(tra_split)\n",
    "tra_simplify = simplify_traj(tra_denoise)"
   ]
  },
  {
   "cell_type": "code",
   "execution_count": 8,
   "metadata": {
    "scrolled": false
   },
   "outputs": [
    {
     "data": {
      "text/plain": [
       "[[1523293209,\n",
       "  1523293229,\n",
       "  1523293240,\n",
       "  1523293249,\n",
       "  1523293259,\n",
       "  1523293270,\n",
       "  1523293289,\n",
       "  1523293310,\n",
       "  1523293311,\n",
       "  1523293319,\n",
       "  1523293329,\n",
       "  1523293349,\n",
       "  1523293359,\n",
       "  1523293369,\n",
       "  1523293379,\n",
       "  1523293389,\n",
       "  1523293409,\n",
       "  1523293419,\n",
       "  1523293429,\n",
       "  1523293439,\n",
       "  1523293449,\n",
       "  1523293469,\n",
       "  1523293479,\n",
       "  1523293489,\n",
       "  1523293499,\n",
       "  1523293509,\n",
       "  1523293529,\n",
       "  1523293539,\n",
       "  1523293549,\n",
       "  1523293559,\n",
       "  1523293569,\n",
       "  1523293589,\n",
       "  1523293599,\n",
       "  1523293609,\n",
       "  1523293619,\n",
       "  1523293629,\n",
       "  1523293649,\n",
       "  1523293659,\n",
       "  1523293669,\n",
       "  1523293679,\n",
       "  1523293689,\n",
       "  1523293709,\n",
       "  1523293719,\n",
       "  1523293729,\n",
       "  1523293739,\n",
       "  1523293749,\n",
       "  1523293769,\n",
       "  1523293779,\n",
       "  1523293789,\n",
       "  1523293799,\n",
       "  1523293809,\n",
       "  1523293829,\n",
       "  1523293839,\n",
       "  1523293849,\n",
       "  1523293859,\n",
       "  1523293869,\n",
       "  1523293889,\n",
       "  1523293899,\n",
       "  1523293909,\n",
       "  1523293919,\n",
       "  1523293929,\n",
       "  1523293949,\n",
       "  1523293959,\n",
       "  1523293969,\n",
       "  1523293979,\n",
       "  1523293989,\n",
       "  1523294009,\n",
       "  1523294019,\n",
       "  1523294029,\n",
       "  1523294039,\n",
       "  1523294049,\n",
       "  1523294069,\n",
       "  1523294079,\n",
       "  1523294089,\n",
       "  1523294099,\n",
       "  1523294109,\n",
       "  1523294129,\n",
       "  1523294139,\n",
       "  1523294149,\n",
       "  1523294159,\n",
       "  1523294169,\n",
       "  1523294189,\n",
       "  1523294199,\n",
       "  1523294209,\n",
       "  1523294219,\n",
       "  1523294229,\n",
       "  1523294249,\n",
       "  1523294259,\n",
       "  1523294269,\n",
       "  1523294279,\n",
       "  1523294289,\n",
       "  1523294309,\n",
       "  1523294319,\n",
       "  1523294329,\n",
       "  1523294339,\n",
       "  1523294350,\n",
       "  1523294369,\n",
       "  1523294379,\n",
       "  1523294395],\n",
       " [[121.472353, 31.31464],\n",
       "  [121.472353, 31.31464],\n",
       "  [121.472357, 31.314633],\n",
       "  [121.472357, 31.314633],\n",
       "  [121.472357, 31.314633],\n",
       "  [121.472357, 31.314633],\n",
       "  [121.472357, 31.314633],\n",
       "  [121.47236200000002, 31.314627],\n",
       "  [121.47236200000002, 31.314627],\n",
       "  [121.47236200000002, 31.314627],\n",
       "  [121.47236200000002, 31.314627],\n",
       "  [121.47236200000002, 31.314627],\n",
       "  [121.472367, 31.314623],\n",
       "  [121.472367, 31.314623],\n",
       "  [121.472367, 31.314623],\n",
       "  [121.472367, 31.314623],\n",
       "  [121.472367, 31.314623],\n",
       "  [121.472372, 31.314618],\n",
       "  [121.472372, 31.314618],\n",
       "  [121.472372, 31.314618],\n",
       "  [121.472372, 31.314618],\n",
       "  [121.472372, 31.314618],\n",
       "  [121.472378, 31.314613],\n",
       "  [121.472378, 31.314613],\n",
       "  [121.472378, 31.314613],\n",
       "  [121.472378, 31.314613],\n",
       "  [121.472378, 31.314613],\n",
       "  [121.472388, 31.31461],\n",
       "  [121.472388, 31.31461],\n",
       "  [121.472388, 31.31461],\n",
       "  [121.472388, 31.31461],\n",
       "  [121.472388, 31.31461],\n",
       "  [121.47239, 31.314608000000003],\n",
       "  [121.47239, 31.314608000000003],\n",
       "  [121.47239, 31.314608000000003],\n",
       "  [121.47239, 31.314608000000003],\n",
       "  [121.47239, 31.314608000000003],\n",
       "  [121.472388, 31.31461],\n",
       "  [121.472388, 31.31461],\n",
       "  [121.472388, 31.31461],\n",
       "  [121.472388, 31.31461],\n",
       "  [121.472388, 31.31461],\n",
       "  [121.472387, 31.31461],\n",
       "  [121.472387, 31.31461],\n",
       "  [121.472387, 31.31461],\n",
       "  [121.472387, 31.31461],\n",
       "  [121.472387, 31.31461],\n",
       "  [121.472383, 31.31461],\n",
       "  [121.472383, 31.31461],\n",
       "  [121.472383, 31.31461],\n",
       "  [121.472383, 31.31461],\n",
       "  [121.472383, 31.31461],\n",
       "  [121.472388, 31.314605],\n",
       "  [121.472388, 31.314605],\n",
       "  [121.472388, 31.314605],\n",
       "  [121.472388, 31.314605],\n",
       "  [121.472388, 31.314605],\n",
       "  [121.472395, 31.314598],\n",
       "  [121.472395, 31.314598],\n",
       "  [121.472395, 31.314598],\n",
       "  [121.472395, 31.314598],\n",
       "  [121.472395, 31.314598],\n",
       "  [121.472395, 31.314595],\n",
       "  [121.472395, 31.314595],\n",
       "  [121.472395, 31.314595],\n",
       "  [121.472395, 31.314595],\n",
       "  [121.472395, 31.314595],\n",
       "  [121.472395, 31.314593],\n",
       "  [121.472395, 31.314593],\n",
       "  [121.472395, 31.314593],\n",
       "  [121.472395, 31.314593],\n",
       "  [121.472395, 31.314593],\n",
       "  [121.472392, 31.314593],\n",
       "  [121.472392, 31.314593],\n",
       "  [121.472392, 31.314593],\n",
       "  [121.472392, 31.314593],\n",
       "  [121.472392, 31.314593],\n",
       "  [121.47238, 31.314593],\n",
       "  [121.47238, 31.314593],\n",
       "  [121.47238, 31.314593],\n",
       "  [121.47238, 31.314593],\n",
       "  [121.47238, 31.314593],\n",
       "  [121.47237, 31.314592],\n",
       "  [121.47237, 31.314592],\n",
       "  [121.47237, 31.314592],\n",
       "  [121.47237, 31.314592],\n",
       "  [121.47237, 31.314592],\n",
       "  [121.472363, 31.314593],\n",
       "  [121.472363, 31.314593],\n",
       "  [121.472363, 31.314593],\n",
       "  [121.472363, 31.314593],\n",
       "  [121.472363, 31.314593],\n",
       "  [121.472355, 31.314593],\n",
       "  [121.472355, 31.314593],\n",
       "  [121.472355, 31.314593],\n",
       "  [121.472355, 31.314593],\n",
       "  [121.472355, 31.314593],\n",
       "  [121.472355, 31.314595],\n",
       "  [121.472355, 31.314595]]]"
      ]
     },
     "execution_count": 8,
     "metadata": {},
     "output_type": "execute_result"
    }
   ],
   "source": [
    "traj_dict['0']"
   ]
  },
  {
   "cell_type": "markdown",
   "metadata": {},
   "source": [
    "##### 5.轨迹分段超参数实验（提示：距离、时间阈值对分段后剩余轨迹点数量的影响）选做"
   ]
  },
  {
   "cell_type": "code",
   "execution_count": null,
   "metadata": {},
   "outputs": [],
   "source": []
  },
  {
   "cell_type": "markdown",
   "metadata": {},
   "source": [
    "##### 6.轨迹去噪超参数实验 选做"
   ]
  },
  {
   "cell_type": "code",
   "execution_count": null,
   "metadata": {},
   "outputs": [],
   "source": []
  },
  {
   "cell_type": "markdown",
   "metadata": {},
   "source": [
    "##### 7.轨迹简化超参数实验 选做"
   ]
  },
  {
   "cell_type": "code",
   "execution_count": null,
   "metadata": {},
   "outputs": [],
   "source": []
  }
 ],
 "metadata": {
  "kernelspec": {
   "display_name": "Python 3 (ipykernel)",
   "language": "python",
   "name": "python3"
  },
  "language_info": {
   "codemirror_mode": {
    "name": "ipython",
    "version": 3
   },
   "file_extension": ".py",
   "mimetype": "text/x-python",
   "name": "python",
   "nbconvert_exporter": "python",
   "pygments_lexer": "ipython3",
   "version": "3.9.12"
  }
 },
 "nbformat": 4,
 "nbformat_minor": 4
}
