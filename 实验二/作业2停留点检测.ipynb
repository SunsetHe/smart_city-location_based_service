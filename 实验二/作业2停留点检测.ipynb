{
 "cells": [
  {
   "cell_type": "markdown",
   "id": "284c416e-e390-4dd9-b4e2-2544cf3a3c07",
   "metadata": {},
   "source": [
    "### 导包"
   ]
  },
  {
   "cell_type": "code",
   "execution_count": 75,
   "id": "e451aba6-b1a9-4a08-847f-82b3221236e4",
   "metadata": {
    "tags": [],
    "ExecuteTime": {
     "end_time": "2024-11-21T03:05:05.375172900Z",
     "start_time": "2024-11-21T03:05:05.349962600Z"
    }
   },
   "outputs": [],
   "source": [
    "import utils.util as util\n",
    "import json\n",
    "import numpy as np\n",
    "import utils.visualization as visual\n",
    "from tqdm import tqdm"
   ]
  },
  {
   "cell_type": "markdown",
   "id": "a0d619b6-e83c-4b30-a40c-c05e4ba4432d",
   "metadata": {},
   "source": [
    "### 涉及阈值"
   ]
  },
  {
   "cell_type": "code",
   "execution_count": 76,
   "id": "27cd7eec-1527-4128-bb0f-d7d364b2e3ce",
   "metadata": {
    "ExecuteTime": {
     "end_time": "2024-11-21T03:05:05.439195Z",
     "start_time": "2024-11-21T03:05:05.354476300Z"
    }
   },
   "outputs": [],
   "source": [
    "DistThreh = 50\n",
    "TimeThreh = 180"
   ]
  },
  {
   "cell_type": "markdown",
   "id": "a98599d3-c4bd-44a3-afc7-73f14335d3d1",
   "metadata": {},
   "source": [
    "### 停留点类"
   ]
  },
  {
   "cell_type": "code",
   "execution_count": 77,
   "id": "5558a93f-06be-42eb-b22d-4ee7621774e6",
   "metadata": {
    "ExecuteTime": {
     "end_time": "2024-11-21T03:05:05.439195Z",
     "start_time": "2024-11-21T03:05:05.361257700Z"
    }
   },
   "outputs": [],
   "source": [
    "class Stay_point:\n",
    "    def __init__(self, center, point_list, arrive_time, leave_time):\n",
    "        self.center = center\n",
    "        self.point_list = point_list\n",
    "        self.arrive_time = arrive_time\n",
    "        self.leave_time = leave_time"
   ]
  },
  {
   "cell_type": "markdown",
   "id": "e56d4ea0-e4fb-4643-b16c-1b0a7e575cfb",
   "metadata": {},
   "source": [
    "### 支持函数"
   ]
  },
  {
   "cell_type": "code",
   "execution_count": 78,
   "id": "e2938c95-4716-4e9b-8beb-7f060120b60b",
   "metadata": {
    "ExecuteTime": {
     "end_time": "2024-11-21T03:05:05.495209700Z",
     "start_time": "2024-11-21T03:05:05.368058100Z"
    }
   },
   "outputs": [],
   "source": [
    "# 读取轨迹数据 并将轨迹坐标系转换为墨卡托坐标系\n",
    "def load_trajectories(filename):\n",
    "    raw_traj = json.load(open(filename))\n",
    "    for k, v in raw_traj.items():\n",
    "        raw_traj[k] = [v[0], util.transform_points_wgs84_to_mercator(v[1])]\n",
    "    return raw_traj"
   ]
  },
  {
   "cell_type": "markdown",
   "id": "4ed28a9e-2dcf-4bb4-9741-10a7e544caa3",
   "metadata": {},
   "source": [
    "### 停留点检测代码实现\n",
    "#### 可选1. 基于距离/时间阈值的停留点检测算法\n",
    "#### 可选2. 基于方向聚类的停留点检测算法"
   ]
  },
  {
   "cell_type": "code",
   "execution_count": 79,
   "id": "54d55afe-1e58-40b3-acfa-e9d9e2b7361e",
   "metadata": {
    "ExecuteTime": {
     "end_time": "2024-11-21T03:05:06.710729400Z",
     "start_time": "2024-11-21T03:05:06.710209900Z"
    }
   },
   "outputs": [],
   "source": [
    "from math import sqrt\n",
    "\n",
    "\n",
    "def extract_stay_points_based_on_threh(data):\n",
    "    stay_points = []\n",
    "    for key,value in tqdm(data.items()):\n",
    "        timestamp = value[0]\n",
    "        traj = value[1]\n",
    "        i = 0\n",
    "        length = len(traj)\n",
    "        while i < length:\n",
    "            j = i + 1\n",
    "            token = 0\n",
    "            while j < length:\n",
    "                # distance = util.Distance(traj[i],traj[j])\n",
    "                distance = sqrt((traj[i][0] - traj[j][0])**2 + (traj[i][1] - traj[j][1])** 2)\n",
    "                if distance > DistThreh:\n",
    "                    time_diff = timestamp[j] - timestamp[i]\n",
    "                    if time_diff > TimeThreh:\n",
    "                        center = np.array(traj[i : j + 1]).mean(0).tolist()\n",
    "                        stay_point = Stay_point(center = center,\n",
    "                                                point_list = traj[i:j+1],\n",
    "                                                arrive_time = timestamp[i],\n",
    "                                                leave_time = timestamp[j])\n",
    "                        stay_points.append(stay_point)\n",
    "                        i = j\n",
    "                        token = 1\n",
    "                    break\n",
    "                j += 1\n",
    "            if token != 1:\n",
    "                i += 1\n",
    "\n",
    "    return stay_points"
   ]
  },
  {
   "cell_type": "code",
   "execution_count": 80,
   "id": "fd7db18f",
   "metadata": {
    "ExecuteTime": {
     "end_time": "2024-11-21T03:05:06.721217600Z",
     "start_time": "2024-11-21T03:05:06.717212100Z"
    }
   },
   "outputs": [],
   "source": [
    "def extract_stay_points_based_on_direction_clustering(data):\n",
    "    \n",
    "    \n",
    "    \n",
    "    \n",
    "    return stay_points"
   ]
  },
  {
   "cell_type": "markdown",
   "id": "fc756868-e7df-432b-872c-a59d2120603e",
   "metadata": {},
   "source": [
    "## 读入数据，调用停留点识别算法"
   ]
  },
  {
   "cell_type": "markdown",
   "id": "5fc17f8b-ef32-4bd0-8d06-1c23bfbd7eba",
   "metadata": {},
   "source": [
    "#### 数据输入\n",
    "- traj_dict：轨迹dict\n",
    "- key：轨迹id\n",
    "- value：[[时间戳列表],[经纬度点列表]]\n",
    "\n",
    "#### 调用停留点提取算法的输出结果\n",
    "- stay_points：停留点list，内部每一项为停留点类，每个停留点包含center, point_list, arrive_time, leave_time属性"
   ]
  },
  {
   "cell_type": "code",
   "execution_count": 81,
   "id": "8b1aecda-0bf2-4f22-a4aa-b898c9125e28",
   "metadata": {
    "tags": [],
    "ExecuteTime": {
     "end_time": "2024-11-21T03:05:09.364125Z",
     "start_time": "2024-11-21T03:05:06.721217600Z"
    }
   },
   "outputs": [],
   "source": [
    "# 读取数据\n",
    "data = load_trajectories('porto_traj.json')"
   ]
  },
  {
   "cell_type": "code",
   "execution_count": 82,
   "outputs": [
    {
     "name": "stdout",
     "output_type": "stream",
     "text": [
      "<class 'dict'>\n"
     ]
    }
   ],
   "source": [
    "print(type(data))"
   ],
   "metadata": {
    "collapsed": false,
    "ExecuteTime": {
     "end_time": "2024-11-21T03:05:09.373993900Z",
     "start_time": "2024-11-21T03:05:09.364125Z"
    }
   }
  },
  {
   "cell_type": "code",
   "execution_count": 83,
   "id": "bf2b2b5c",
   "metadata": {
    "ExecuteTime": {
     "end_time": "2024-11-21T03:05:09.378502700Z",
     "start_time": "2024-11-21T03:05:09.372004100Z"
    }
   },
   "outputs": [
    {
     "name": "stdout",
     "output_type": "stream",
     "text": [
      "[[1372636858, 1372636859, 1372636869, 1372636870, 1372636871, 1372636872, 1372636873, 1372636877, 1372636878], [[-960588.13146654, 5034671.201921352], [-960590.1352173749, 5034675.193587552], [-960552.063951513, 5034817.564090121], [-960541.0433219211, 5034842.845052223], [-960549.0583252608, 5034864.134334601], [-960779.4896712671, 5035158.197331414], [-960779.4896712671, 5035159.5279534925], [-960779.4896712671, 5035156.866709527], [-960780.4915466846, 5035155.53608783]]]\n"
     ]
    }
   ],
   "source": [
    "# 数据样例\n",
    "print(data['0'])"
   ]
  },
  {
   "cell_type": "code",
   "execution_count": 84,
   "id": "6d269153",
   "metadata": {
    "ExecuteTime": {
     "end_time": "2024-11-21T03:05:10.444385200Z",
     "start_time": "2024-11-21T03:05:09.374502800Z"
    }
   },
   "outputs": [
    {
     "name": "stderr",
     "output_type": "stream",
     "text": [
      "100%|██████████| 59378/59378 [00:01<00:00, 56215.52it/s]\n"
     ]
    }
   ],
   "source": [
    "# 停留点提取\n",
    "stay_points = extract_stay_points_based_on_threh(data)"
   ]
  },
  {
   "cell_type": "code",
   "execution_count": 85,
   "id": "3521be74",
   "metadata": {
    "ExecuteTime": {
     "end_time": "2024-11-21T03:05:10.447536500Z",
     "start_time": "2024-11-21T03:05:10.445361800Z"
    }
   },
   "outputs": [
    {
     "data": {
      "text/plain": "<__main__.Stay_point at 0x2362b831d50>"
     },
     "execution_count": 85,
     "metadata": {},
     "output_type": "execute_result"
    }
   ],
   "source": [
    "stay_points[0]"
   ]
  },
  {
   "cell_type": "code",
   "execution_count": 86,
   "id": "9a55062c",
   "metadata": {
    "ExecuteTime": {
     "end_time": "2024-11-21T03:05:10.463467400Z",
     "start_time": "2024-11-21T03:05:10.454296Z"
    }
   },
   "outputs": [
    {
     "name": "stdout",
     "output_type": "stream",
     "text": [
      "[-964859.6273087031, 5039253.3864017185]\n",
      "[[-964849.1076168203, 5039241.405741261], [-964870.147000586, 5039265.367062175]]\n",
      "1372654133\n",
      "1372654434\n"
     ]
    }
   ],
   "source": [
    "\n",
    "print(stay_points[0].center)\n",
    "print(stay_points[0].point_list)\n",
    "print(stay_points[0].arrive_time)\n",
    "print(stay_points[0].leave_time)"
   ]
  },
  {
   "cell_type": "code",
   "execution_count": 87,
   "id": "2b2f24ad",
   "metadata": {
    "ExecuteTime": {
     "end_time": "2024-11-21T03:05:10.467032500Z",
     "start_time": "2024-11-21T03:05:10.454800Z"
    }
   },
   "outputs": [],
   "source": [
    "# 可视化停留点中心位置\n",
    "visual.visual_traj(util.transform_points_mercator_to_wgs84([i.center for i in stay_points]), 'stay_centers.json')"
   ]
  },
  {
   "cell_type": "code",
   "execution_count": 87,
   "id": "b32ed3a7",
   "metadata": {
    "ExecuteTime": {
     "end_time": "2024-11-21T03:05:10.495052200Z",
     "start_time": "2024-11-21T03:05:10.467032500Z"
    }
   },
   "outputs": [],
   "source": []
  }
 ],
 "metadata": {
  "kernelspec": {
   "display_name": "Python 3",
   "language": "python",
   "name": "python3"
  },
  "language_info": {
   "codemirror_mode": {
    "name": "ipython",
    "version": 3
   },
   "file_extension": ".py",
   "mimetype": "text/x-python",
   "name": "python",
   "nbconvert_exporter": "python",
   "pygments_lexer": "ipython3",
   "version": "3.8.8"
  }
 },
 "nbformat": 4,
 "nbformat_minor": 5
}
