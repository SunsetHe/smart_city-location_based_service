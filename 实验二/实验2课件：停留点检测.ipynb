{
 "cells": [
  {
   "cell_type": "markdown",
   "id": "284c416e-e390-4dd9-b4e2-2544cf3a3c07",
   "metadata": {},
   "source": [
    "### 导包"
   ]
  },
  {
   "cell_type": "code",
   "execution_count": 1,
   "id": "e451aba6-b1a9-4a08-847f-82b3221236e4",
   "metadata": {
    "tags": []
   },
   "outputs": [],
   "source": [
    "import utils.util as util\n",
    "import json\n",
    "import numpy as np\n",
    "import utils.visualization as visual\n",
    "from tqdm import tqdm"
   ]
  },
  {
   "cell_type": "markdown",
   "id": "a0d619b6-e83c-4b30-a40c-c05e4ba4432d",
   "metadata": {},
   "source": [
    "### 涉及阈值"
   ]
  },
  {
   "cell_type": "code",
   "execution_count": 2,
   "id": "27cd7eec-1527-4128-bb0f-d7d364b2e3ce",
   "metadata": {},
   "outputs": [],
   "source": [
    "DistThreh = 50\n",
    "TimeThreh = 180"
   ]
  },
  {
   "cell_type": "markdown",
   "id": "a98599d3-c4bd-44a3-afc7-73f14335d3d1",
   "metadata": {},
   "source": [
    "### 停留点类"
   ]
  },
  {
   "cell_type": "code",
   "execution_count": 3,
   "id": "5558a93f-06be-42eb-b22d-4ee7621774e6",
   "metadata": {},
   "outputs": [],
   "source": [
    "class Stay_point:\n",
    "    def __init__(self, center, point_list, arrive_time, leave_time):\n",
    "        self.center = center\n",
    "        self.point_list = point_list\n",
    "        self.arrive_time = arrive_time\n",
    "        self.leave_time = leave_time"
   ]
  },
  {
   "cell_type": "markdown",
   "id": "e56d4ea0-e4fb-4643-b16c-1b0a7e575cfb",
   "metadata": {},
   "source": [
    "### 支持函数"
   ]
  },
  {
   "cell_type": "code",
   "execution_count": 4,
   "id": "e2938c95-4716-4e9b-8beb-7f060120b60b",
   "metadata": {},
   "outputs": [],
   "source": [
    "# 读取轨迹数据 并将轨迹坐标系转换为墨卡托坐标系\n",
    "def load_trajectories(filename):\n",
    "    raw_traj = json.load(open(filename))\n",
    "    for k, v in raw_traj.items():\n",
    "        raw_traj[k] = [v[0], util.transform_points_wgs84_to_mercator(v[1])]\n",
    "    return raw_traj"
   ]
  },
  {
   "cell_type": "markdown",
   "id": "4ed28a9e-2dcf-4bb4-9741-10a7e544caa3",
   "metadata": {},
   "source": [
    "### 基于距离与时间阈值的停留点检测"
   ]
  },
  {
   "cell_type": "code",
   "execution_count": 5,
   "id": "54d55afe-1e58-40b3-acfa-e9d9e2b7361e",
   "metadata": {},
   "outputs": [],
   "source": [
    "def extract_stay_point_for_single_traj(traj):\n",
    "    stay_points = []\n",
    "    times, coors = traj\n",
    "    i = 0\n",
    "    length = len(coors)\n",
    "    while i < length:\n",
    "        j = i + 1\n",
    "        while j < length:\n",
    "            distance = util.eucl_distance(coors[i], coors[j])\n",
    "            if distance > DistThreh:\n",
    "                time = times[j] - times[i]\n",
    "                if time > TimeThreh:\n",
    "                    center = np.array(coors[i : j + 1]).mean(0).tolist()\n",
    "                    stay_points.append(Stay_point(center, coors[i : j + 1], times[i], times[j]))\n",
    "                    i = j\n",
    "                else:\n",
    "                    i += 1\n",
    "                break\n",
    "            j += 1\n",
    "        if j == length:\n",
    "            break\n",
    "\n",
    "    return stay_points\n",
    "\n",
    "def extract_stay_points_for_all_traj(raw_traj):\n",
    "    stay_points = []\n",
    "    for k, v in tqdm(raw_traj.items()):\n",
    "        stay_points.extend(extract_stay_point_for_single_traj(v))\n",
    "    return stay_points"
   ]
  },
  {
   "cell_type": "markdown",
   "id": "fc756868-e7df-432b-872c-a59d2120603e",
   "metadata": {},
   "source": [
    "## 读入数据，调用停留点识别算法"
   ]
  },
  {
   "cell_type": "markdown",
   "id": "5fc17f8b-ef32-4bd0-8d06-1c23bfbd7eba",
   "metadata": {},
   "source": [
    "#### 数据输入\n",
    "- traj_dict：轨迹dict\n",
    "- key：轨迹id\n",
    "- value：[[时间戳列表],[经纬度点列表]]\n",
    "\n",
    "#### 调用停留点提取算法的输出结果\n",
    "- stay_points：停留点list，内部每一项为停留点类，每个停留点包含center, point_list, arrive_time, leave_time属性"
   ]
  },
  {
   "cell_type": "code",
   "execution_count": 6,
   "id": "8b1aecda-0bf2-4f22-a4aa-b898c9125e28",
   "metadata": {
    "tags": []
   },
   "outputs": [],
   "source": [
    "# 读取数据\n",
    "data = load_trajectories('porto_traj.json')"
   ]
  },
  {
   "cell_type": "code",
   "execution_count": 7,
   "id": "bf2b2b5c",
   "metadata": {},
   "outputs": [
    {
     "name": "stdout",
     "output_type": "stream",
     "text": [
      "[[1372636858, 1372636859, 1372636869, 1372636870, 1372636871, 1372636872, 1372636873, 1372636877, 1372636878], [[-960588.13146654, 5034671.201921352], [-960590.1352173749, 5034675.193587552], [-960552.063951513, 5034817.564090121], [-960541.0433219211, 5034842.845052223], [-960549.0583252608, 5034864.134334601], [-960779.4896712671, 5035158.197331414], [-960779.4896712671, 5035159.527953491], [-960779.4896712671, 5035156.866709527], [-960780.4915466846, 5035155.536087831]]]\n"
     ]
    }
   ],
   "source": [
    "# 数据样例\n",
    "print(data['0'])"
   ]
  },
  {
   "cell_type": "code",
   "execution_count": 8,
   "id": "6d269153",
   "metadata": {},
   "outputs": [
    {
     "name": "stderr",
     "output_type": "stream",
     "text": [
      "100%|██████████| 59378/59378 [00:10<00:00, 5760.20it/s]\n"
     ]
    }
   ],
   "source": [
    "# 停留点提取\n",
    "stay_points = extract_stay_points_for_all_traj(data)"
   ]
  },
  {
   "cell_type": "code",
   "execution_count": 10,
   "id": "3521be74",
   "metadata": {},
   "outputs": [
    {
     "data": {
      "text/plain": [
       "<__main__.Stay_point at 0x7fbd2803d220>"
      ]
     },
     "execution_count": 10,
     "metadata": {},
     "output_type": "execute_result"
    }
   ],
   "source": [
    "stay_points[0]"
   ]
  },
  {
   "cell_type": "code",
   "execution_count": 11,
   "id": "9a55062c",
   "metadata": {},
   "outputs": [
    {
     "name": "stdout",
     "output_type": "stream",
     "text": [
      "[-964855.3010284916, 5039254.475553829]\n",
      "[[-964836.083236394, 5039238.743375926], [-964848.1057414027, 5039249.392841645], [-964847.1038659858, 5039249.392841645], [-964856.1207447423, 5039257.379948615], [-964853.11511849, 5039256.048763657], [-964866.1394989162, 5039269.360621423], [-964858.1244955772, 5039256.048763657], [-964842.0944888983, 5039236.081011324], [-964849.1076168203, 5039241.405741261], [-964870.147000586, 5039265.367062174], [-964882.169505595, 5039280.010120798]]\n",
      "1372654104\n",
      "1372654435\n"
     ]
    }
   ],
   "source": [
    "\n",
    "print(stay_points[0].center)\n",
    "print(stay_points[0].point_list)\n",
    "print(stay_points[0].arrive_time)\n",
    "print(stay_points[0].leave_time)"
   ]
  },
  {
   "cell_type": "code",
   "execution_count": 12,
   "id": "2b2f24ad",
   "metadata": {},
   "outputs": [],
   "source": [
    "# 可视化停留点中心位置\n",
    "visual.visual_traj(util.transform_points_mercator_to_wgs84([i.center for i in stay_points]), 'stay_centers.json')"
   ]
  },
  {
   "cell_type": "code",
   "execution_count": null,
   "id": "b32ed3a7",
   "metadata": {},
   "outputs": [],
   "source": []
  }
 ],
 "metadata": {
  "kernelspec": {
   "display_name": "Python 3",
   "language": "python",
   "name": "python3"
  },
  "language_info": {
   "codemirror_mode": {
    "name": "ipython",
    "version": 3
   },
   "file_extension": ".py",
   "mimetype": "text/x-python",
   "name": "python",
   "nbconvert_exporter": "python",
   "pygments_lexer": "ipython3",
   "version": "3.8.8"
  }
 },
 "nbformat": 4,
 "nbformat_minor": 5
}
